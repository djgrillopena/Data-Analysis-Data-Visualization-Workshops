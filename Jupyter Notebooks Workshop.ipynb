{
 "cells": [
  {
   "cell_type": "markdown",
   "metadata": {},
   "source": [
    "# Jupyter Notebooks"
   ]
  },
  {
   "cell_type": "markdown",
   "metadata": {},
   "source": [
    "## What is Jupyter Notebook?\n",
    "Jupyer is a free, open-source, web-based interactive environment that combines code, text, images, videos, mathematical equations, plots, maps, interactive widgets, and more into a single document.\n",
    "\n",
    "Because of the scientific computing and data analysis capabilities, Jupyter Notebooks is widely used mainly by data scientists.\n",
    "\n",
    "Some of the advantages of using Jupyter Notebooks are:\n",
    "1. All you need in one place\n",
    "2. Easy to share\n",
    "3. Easy to convert (to formats such as PDF and HTML)\n",
    "4. Interactive code and data exploration (ability to explore code and data interactively)"
   ]
  },
  {
   "cell_type": "markdown",
   "metadata": {},
   "source": [
    "## Alternatives to Jupyter Notebooks\n",
    "\n",
    "Jupyter Notebooks and Jupyter Lab are widely used by downloading the Anaconda Navigator, however, another way to use and create notebooks is through Google Colab\n",
    "\n",
    "``Link to download Anaconda Navigator`` https://docs.anaconda.com/anaconda/install/index.html\n",
    "\n",
    "``Link to use Google Colab`` https://colab.research.google.com/?utm_source=scs-index"
   ]
  },
  {
   "cell_type": "markdown",
   "metadata": {},
   "source": [
    "## The Kernel\n",
    "Jupyter Notebooks run on a kernel, which is responsible for executing the code cells. The ipython kernel executes python code, as well as kernels for other programming languages exist."
   ]
  },
  {
   "cell_type": "markdown",
   "metadata": {},
   "source": [
    "## Types of Cells\n",
    "\n",
    "Most used cells in a Jupyter Notebook are markdown cells, and code cells."
   ]
  },
  {
   "cell_type": "markdown",
   "metadata": {},
   "source": [
    "## Markdown Cells"
   ]
  },
  {
   "cell_type": "markdown",
   "metadata": {},
   "source": [
    "These cells can store text, this is where you can describe and document your workflow.\n",
    "\n",
    "To create a mardown cell, while you are on a notebook cell, go to the dropdown menu on the toolbar and select \"Markdown\".\n",
    "\n",
    "Use \"#\" to define the size of a header.\n",
    "\n",
    "Examples:\n",
    "\n",
    "# <div style = \"text-align: center\">Hack Frost NL</div>\n",
    "## <div style = \"text-align: center\">Hack Frost NL</div>\n",
    "### <div style = \"text-align: center\">Hack Frost NL</div>"
   ]
  },
  {
   "cell_type": "markdown",
   "metadata": {},
   "source": [
    "# Hello hackers\n",
    "## Hello hackers\n",
    "### Hello hackers"
   ]
  },
  {
   "cell_type": "markdown",
   "metadata": {},
   "source": [
    "## Code Cells"
   ]
  },
  {
   "cell_type": "markdown",
   "metadata": {},
   "source": [
    "The default programming language of Jupyter Notebooks is Python, however, it supports over 100 programming languages. The most popular ones are Java, R, Julia, Matlab, Scala.\n",
    "\n",
    "Some examples of how to use a code cell are provided below:"
   ]
  },
  {
   "cell_type": "code",
   "execution_count": 1,
   "metadata": {},
   "outputs": [
    {
     "data": {
      "text/plain": [
       "4"
      ]
     },
     "execution_count": 1,
     "metadata": {},
     "output_type": "execute_result"
    }
   ],
   "source": [
    "2 + 2"
   ]
  },
  {
   "cell_type": "code",
   "execution_count": 2,
   "metadata": {},
   "outputs": [
    {
     "name": "stdout",
     "output_type": "stream",
     "text": [
      "Hack Frost NL is the best\n",
      "Hack Frost NL is the best\n",
      "Hack Frost NL is the best\n"
     ]
    }
   ],
   "source": [
    "for i in range(3):\n",
    "    \n",
    "    print(\"Hack Frost NL is the best\")"
   ]
  },
  {
   "cell_type": "code",
   "execution_count": 3,
   "metadata": {},
   "outputs": [],
   "source": [
    "class BankAccount:\n",
    "    \n",
    "    money = 0\n",
    "    \n",
    "    def deposit_money(self, amount):\n",
    "        \n",
    "        self.money += amount\n",
    "        print(\"$\" + str(amount) + \" deposited.\")\n",
    "        \n",
    "    def withdrawal_money(self, amount):\n",
    "        \n",
    "        if (self.money - amount >= 0):\n",
    "            \n",
    "            self.money -= amount\n",
    "            print(\"$\" + str(amount) + \" withdrawn.\")\n",
    "        \n",
    "        else:\n",
    "            \n",
    "            print(\"Not enough money in the account.\")\n",
    "            \n",
    "    def show_balance(self):\n",
    "        \n",
    "        print(\"Money available in the account: $\" + str(self.money))"
   ]
  },
  {
   "cell_type": "code",
   "execution_count": 4,
   "metadata": {},
   "outputs": [
    {
     "name": "stdout",
     "output_type": "stream",
     "text": [
      "$1000 deposited.\n",
      "$800 withdrawn.\n",
      "Money available in the account: $200\n",
      "Not enough money in the account.\n",
      "Money available in the account: $200\n"
     ]
    }
   ],
   "source": [
    "scotia = BankAccount()\n",
    "\n",
    "scotia.deposit_money(1000)\n",
    "scotia.withdrawal_money(800)\n",
    "scotia.show_balance()\n",
    "scotia.withdrawal_money(500)\n",
    "scotia.show_balance()"
   ]
  },
  {
   "cell_type": "markdown",
   "metadata": {},
   "source": [
    "## How to run a cell\n",
    "1. You can use Shift + Enter\n",
    "2. You can click \"Run\" on the toolbar"
   ]
  },
  {
   "cell_type": "markdown",
   "metadata": {},
   "source": [
    "## Additional Information\n",
    "1. If a code block is taking too long to run, or maybe you made a mistake and a loop is running forever, you can click \"Kernel\", and select \"Interrupt\" to stop the kernel.\n",
    "2. You can restart the notebook, restart and clear the output, or restart and run all cells by clicking \"Kernel\" and selecting either \"Restart\", \"Restart & Clear Output\", or \"Restart & Run All\"\n",
    "3. You can run all cells by clicking \"Cells\" and selecting \"Run All"
   ]
  }
 ],
 "metadata": {
  "kernelspec": {
   "display_name": "Python 3",
   "language": "python",
   "name": "python3"
  },
  "language_info": {
   "codemirror_mode": {
    "name": "ipython",
    "version": 3
   },
   "file_extension": ".py",
   "mimetype": "text/x-python",
   "name": "python",
   "nbconvert_exporter": "python",
   "pygments_lexer": "ipython3",
   "version": "3.8.5"
  }
 },
 "nbformat": 4,
 "nbformat_minor": 4
}
